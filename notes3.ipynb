{
 "cells": [
  {
   "cell_type": "markdown",
   "metadata": {
    "slideshow": {
     "slide_type": "slide"
    }
   },
   "source": [
    "# 2. Discrete random variables\n",
    "\n",
    "\n",
    " #### [Back to main page](https://petrosyan.page/fall2020math3215)\n"
   ]
  },
  {
   "cell_type": "markdown",
   "metadata": {},
   "source": [
    "___\n",
    "### Example 1\n",
    "\n",
    "Consider the  double coin flip experiment $S=\\{HH, HT, TH, TT\\}$, and define a random variable which counts the number of heads in each outcome. Then \n",
    "$$X(HH)=2,\\;X(HT)=1,\\;X(TH)=1,\\; X(TT)=0.$$\n",
    " \n",
    "Observe that Range$(X)=\\{0,1,3\\}$ and the pmf of the random variable is \n",
    "        \n",
    "$$f(0)=0.25,\\; f(1)=0.5,\\; f(2)=0.15.$$\n",
    "\n",
    "Below we draw the line graph and the histogram of the pmf of this random variable. Red circles represent the range of $X$."
   ]
  },
  {
   "cell_type": "code",
   "execution_count": 8,
   "metadata": {},
   "outputs": [
    {
     "data": {
      "image/png": "[encoded data removed]",
      "text/plain": [
       "<Figure size 864x360 with 2 Axes>"
      ]
     },
     "metadata": {
      "needs_background": "light"
     },
     "output_type": "display_data"
    }
   ],
   "source": [
    "# nbi:hide_in\n",
    "# library\n",
    "import matplotlib.pyplot as plt\n",
    "import numpy as np\n",
    "plt.rcParams[\"figure.figsize\"] = (12, 5)\n",
    "\n",
    "\n",
    "range_x = np.array([0, 1, 2])\n",
    "pmf_values = np.array([1/4, 1/2, 1/4])\n",
    "\n",
    "fig, [ax1, ax2] = plt.subplots(1,2, num=1, clear=True)\n",
    "\n",
    "ax1.set_ylim(0,0.6) \n",
    "ax1.set_xlim(-0.7, 2.6)\n",
    "ax1.axhline(y=0, color='k')\n",
    "ax1.set_xticks(range_x)\n",
    "ax1.set_yticks(pmf_values)\n",
    "ax1.spines[\"top\"].set_visible(False)  \n",
    "ax1.spines[\"right\"].set_visible(False)\n",
    "ax1.spines[\"bottom\"].set_visible(False)\n",
    "\n",
    "ax2.set_ylim(0, 0.6) \n",
    "ax2.set_xlim(-0.7, 2.6)\n",
    "ax2.axhline(y=0, color='k')\n",
    "ax2.set_xticks(range_x)\n",
    "ax2.set_yticks(pmf_values)\n",
    "ax2.spines[\"top\"].set_visible(False)  \n",
    "ax2.spines[\"right\"].set_visible(False)\n",
    "ax2.spines[\"bottom\"].set_visible(False)\n",
    "\n",
    "# Plotting line graphs using plt.stem with stems removed\n",
    "ax1.scatter(range_x,np.zeros(range_x.shape), color =\"red\", s=20)\n",
    "markers,stems,base = ax1.stem(range_x, pmf_values, markerfmt=' ', \n",
    "                              linefmt='#039be5', basefmt=\"black\", use_line_collection=True)\n",
    "stems.set_linewidth(3)\n",
    "ax1.set_title(\"Line graph\")\n",
    "\n",
    "\n",
    "# PLotting with plt.bar instead of plt.hist works better when f(x) are knowwn\n",
    "ax2.scatter(range_x,np.zeros(range_x.shape), color =\"red\", s=20)\n",
    "ax2.bar(range_x, pmf_values, width=1, color='#039be5', edgecolor=\"w\", linewidth=1.3, label=\"Histogran\")\n",
    "ax2.set_title(\"Histogram\")\n",
    "\n",
    "\n",
    "plt.show();\n",
    "                       "
   ]
  },
  {
   "cell_type": "markdown",
   "metadata": {},
   "source": [
    "___\n",
    "### Example 2\n",
    "\n",
    "If Range$(X)=\\{x_1,\\dots,x_k\\}$ and $P(x_1)=\\cdots=P(x_k)=\\frac{1}{k}$ then we say that $X$ has uniform distribution.\n",
    "\n",
    "in the example below, the range of $X$ is \n",
    "\n",
    "$$ \\text{Range}(X)=\\{-3, -6, 5, 9, 2, 1, 3, 8, 7, 10\\}$$\n",
    "\n",
    "with $f(x)=0.1$ for every $x\\in \\text{Range}(X).$"
   ]
  },
  {
   "cell_type": "code",
   "execution_count": 2,
   "metadata": {},
   "outputs": [
    {
     "data": {
      "image/png": "[encoded data removed]",
      "text/plain": [
       "<Figure size 864x360 with 2 Axes>"
      ]
     },
     "metadata": {
      "needs_background": "light"
     },
     "output_type": "display_data"
    }
   ],
   "source": [
    "# nbi:hide_in\n",
    "# library\n",
    "import matplotlib.pyplot as plt\n",
    "import numpy as np\n",
    "plt.rcParams[\"figure.figsize\"] = (12, 5)\n",
    "\n",
    "K=10\n",
    "range_x=np.array([-3, -6, 5, 9, 2, 1, 3, 8, 7, 10])\n",
    "pmf_values=np.ones(range_x.size)/range_x.size\n",
    "\n",
    "# Sort x and y according to order in x\n",
    "sortargs = range_x.argsort()\n",
    "range_x = range_x[sortargs]\n",
    "pmf_values = pmf_values[sortargs]\n",
    "\n",
    "#cdf values using cumsum function with padding\n",
    "cdf_values = np.cumsum(pmf_values)\n",
    "\n",
    "def padding(cdf_values, range_x):\n",
    "    edge = (range_x[0]-2, range_x[-1]+2)\n",
    "    range_x_padded = np.pad(range_x, (1,1), 'constant', constant_values=edge)\n",
    "    cdf_values_padded = np.pad(cdf_values, (1,1), 'constant', constant_values=(0, 1))\n",
    "    return cdf_values_padded, range_x_padded, edge\n",
    "\n",
    "cdf_values_padded, range_x_padded, edge = padding(cdf_values, range_x)\n",
    "# setting up the figure\n",
    "fig, [ax1, ax2] = plt.subplots(1,2, num=1, clear=True)\n",
    "\n",
    "ax1.set_ylim(0,1.1)\n",
    "ax1.axhline(y=0, color='k')\n",
    "ax1.set_xlim(edge)\n",
    "ax1.set_xticks(range_x)\n",
    "ax1.set_yticks(cdf_values_padded)\n",
    "ax1.spines[\"top\"].set_visible(False)  \n",
    "ax1.spines[\"right\"].set_visible(False)\n",
    "ax1.spines[\"bottom\"].set_visible(False)\n",
    "\n",
    "ax2.set_ylim(0,1.1) \n",
    "ax2.axhline(y=0, color='k')\n",
    "ax2.set_xlim(edge)\n",
    "ax2.set_xticks(range_x)\n",
    "ax2.set_yticks(cdf_values_padded)\n",
    "ax2.spines[\"top\"].set_visible(False)  \n",
    "ax2.spines[\"right\"].set_visible(False)\n",
    "ax2.spines[\"bottom\"].set_visible(False)\n",
    "\n",
    "# plot line grapghs\n",
    "ax1.scatter(range_x,np.zeros(range_x.shape), color =\"red\", s=20)\n",
    "markers,stems,base = ax1.stem(range_x, pmf_values, markerfmt=' ',\n",
    "                              linefmt='#039be5', basefmt=\"black\", use_line_collection=True)\n",
    "stems.set_linewidth(3)\n",
    "ax1.set_title(\"pmf\")\n",
    "\n",
    "# plot cdf using step function\n",
    "ax2.scatter(range_x,np.zeros(range_x.shape), color =\"red\", s=20)\n",
    "ax2.step(range_x_padded, cdf_values_padded, linewidth=1, where='post', color='#039be5',)\n",
    "ax2.set_title(\"cdf\")\n",
    "\n",
    "plt.show();"
   ]
  },
  {
   "cell_type": "markdown",
   "metadata": {},
   "source": [
    "___\n",
    "### Relative frequency histogram for pmf\n",
    "\n",
    "Suppose our data   consists of values of the random variable on a sequence of trial outcomes. As mentioned earlier, probability of an event represents how frequent the experiment outcome terminates in the event, in a large number of repetitive trials. Hence,  the pmf at $x\\in\\text{Range}(X)$ can be empirically estimated using the relative frequency \n",
    "\n",
    " $$f_{\\text{emp}}(x)= \\frac{\\text{number of elements in data = }x}{ \\text{ size of data}}.$$\n",
    " \n",
    "Resulting relative frequency histogram will approximate the pmf histogram.\n",
    "\n",
    "In the example below, we consider the following experiment: a dice is tossed twice and the random variable is the maximum of the two tosses: \n",
    "\n",
    "$$S=\\{(i,j):\\; 1\\leq i\\leq n, 1\\leq j\\leq 6\\}$$\n",
    "\n",
    "and for any $s=(i,j)$,\n",
    "      \n",
    " $$X(i,j)=\\max\\{i,j\\}.$$\n",
    " \n",
    " It can be seen that in this case, $\\text{range}(X)=\\{1,\\dots, n\\}$ and, for any $x\\in \\text{range}(X)$,\n",
    " \n",
    " $$f(x)=\\frac{2x-1}{n^2}.$$\n",
    "\n",
    "The data consist of values of $X$ on 1000 random pairs of tosses."
   ]
  },
  {
   "cell_type": "code",
   "execution_count": 3,
   "metadata": {},
   "outputs": [
    {
     "data": {
      "image/png": "[encoded data removed]",
      "text/plain": [
       "<Figure size 576x360 with 1 Axes>"
      ]
     },
     "metadata": {
      "needs_background": "light"
     },
     "output_type": "display_data"
    }
   ],
   "source": [
    "# nbi:hide_in\n",
    "# library\n",
    "import matplotlib.pyplot as plt\n",
    "import numpy as np\n",
    "plt.rcParams[\"figure.figsize\"] = (8, 5)\n",
    "plt.gca().spines['top'].set_visible(False)\n",
    "plt.gca().spines['right'].set_visible(False)\n",
    "plt.gca().spines['bottom'].set_visible(False)\n",
    "\n",
    "n = 6\n",
    "num_samples=1000\n",
    "\n",
    "range_x = np.arange(1,n+1)\n",
    "pmf_values = np.array([(2*i-1)/n**2 for i in range(1,n+1)])\n",
    "\n",
    "# generate data\n",
    "toss = np.random.randint(1,n+1,(2,num_samples))\n",
    "data = np.amax(toss, axis=0).squeeze()\n",
    "\n",
    "# compute empirical pmf\n",
    "def epmf(data):\n",
    "    erange_x, counts = np.unique(data, return_counts=True)\n",
    "    epmf_values = counts/data.size\n",
    "    return epmf_values, erange_x\n",
    "\n",
    "epmf_values, erange_x = epmf(data)\n",
    "\n",
    "# plot \n",
    "plt.ylim(0,0.4) \n",
    "plt.axhline(y=0, color='k')\n",
    "plt.xticks(range_x)\n",
    "\n",
    "plt.scatter(range_x,np.zeros(range_x.shape), color =\"red\", s=20)\n",
    "plt.bar(range_x, pmf_values, width=1, color=(1, 1, 1, 0), \n",
    "        edgecolor='#039be5', linewidth=1, label=\"True histogran\")\n",
    "plt.bar(erange_x, epmf_values, width=0.9, color=(1, 1, 1, 0), \n",
    "        edgecolor='green', linewidth=1,linestyle=\"--\", label=\"Relative frequency histogram\")\n",
    "plt.legend()\n",
    "plt.show();"
   ]
  },
  {
   "cell_type": "markdown",
   "metadata": {},
   "source": [
    "___\n",
    "### Empirical cdf\n",
    "\n",
    "Similar to empirical pmf, the empirical cfd is computed as\n",
    "\n",
    "$$F_{\\text{emp}}(x)=\\frac{\\text{number of outomes }\\leq x}{\\text{size of data}}.$$\n",
    "\n",
    "We consider the double die toss experiment. Let the random variable $X$ be the maximum of two tosses. Again,   $\\text{Range}(X)=\\{1,\\dots, 6\\}$ and it can be checked that\n",
    "     $$F(x)=\n",
    "\\begin{cases}\n",
    "0 & x<1\\\\\n",
    "\\sum\\limits_{i=1}^k\\frac{2i-1}{6^2}=\\frac{k^2}{6^2} & k\\leq x<k+1, \\text{ for }k=1,\\dots,5\\\\\n",
    "1 & 6<x.\n",
    "\\end{cases}$$\n",
    "In the numerical example below we collect 1000 pairs of tosses of the die and collect the maximum value of each pair as our data. The graph shows the real and the empirical cdf-s."
   ]
  },
  {
   "cell_type": "code",
   "execution_count": 4,
   "metadata": {},
   "outputs": [
    {
     "data": {
      "image/png": "[encoded data removed]",
      "text/plain": [
       "<Figure size 576x360 with 1 Axes>"
      ]
     },
     "metadata": {
      "needs_background": "light"
     },
     "output_type": "display_data"
    }
   ],
   "source": [
    "# nbi:hide_in\n",
    "# library\n",
    "import matplotlib.pyplot as plt\n",
    "import numpy as np\n",
    "plt.rcParams[\"figure.figsize\"] = (8, 5)\n",
    "plt.gca().spines['top'].set_visible(False)\n",
    "plt.gca().spines['right'].set_visible(False)\n",
    "plt.gca().spines['bottom'].set_visible(False)\n",
    "\n",
    "n = 6\n",
    "num_samples=100\n",
    "range_x = np.arange(1,n+1)\n",
    "\n",
    "# generate data\n",
    "toss = np.random.randint(1,n+1,(2,num_samples))\n",
    "data = np.amax(toss, axis=0).squeeze()\n",
    "\n",
    "# compute true cdf values\n",
    "cdf_values = np.array([i**2/n**2 for i in range(1,n+1)])\n",
    "\n",
    "# compute empirical cdf values\n",
    "def ecdf(data):\n",
    "    erange_x, counts = np.unique(data, return_counts=True)\n",
    "    cdf_emp = np.cumsum(counts)/data.size\n",
    "    return cdf_emp, erange_x\n",
    "\n",
    "ecdf_values, erange_x = ecdf(data)\n",
    "\n",
    "# add padding \n",
    "def padding(cdf_values, range_x):\n",
    "    edge = (range_x[0]-2, range_x[-1]+2)\n",
    "    range_x_padded = np.pad(range_x, (1,1), 'constant', constant_values=edge)\n",
    "    cdf_values_padded = np.pad(cdf_values, (1,1), 'constant', constant_values=(0, 1))\n",
    "    return cdf_values_padded, range_x_padded\n",
    "\n",
    "cdf_values_padded, range_x_padded = padding(cdf_values, range_x)\n",
    "ecdf_values_padded, erange_x_padded = padding(ecdf_values, erange_x)\n",
    "\n",
    "# plot setup\n",
    "plt.ylim(0,1.1)\n",
    "plt.xlim(-1.2,8.2)\n",
    "plt.axhline(y=0, color='k')\n",
    "plt.xticks(range_x)\n",
    "\n",
    "# plot cdf using step function\n",
    "plt.scatter(range_x,np.zeros(range_x.shape), color =\"red\", s=20)\n",
    "plt.step(range_x_padded, cdf_values_padded, where='post', color='#039be5', linewidth=1, label=\"True cdf\")\n",
    "plt.step(erange_x_padded, ecdf_values_padded, where='post', color=\"green\", linewidth=1, linestyle=\"--\", label='Empirical cdf')\n",
    "plt.legend()\n",
    "\n",
    "plt.show();\n"
   ]
  },
  {
   "cell_type": "markdown",
   "metadata": {},
   "source": [
    "### Bernoulli trials\n",
    "\n",
    "\n",
    "**Definition**\n",
    "    \n",
    "<div class=\"alert alert-block alert-info\">\n",
    "\n",
    "In Bernoulli experiment the outcome is either of Type I (success) with probability $p$ or Type II (fail) with probability $q=1-p$. \n",
    "\n",
    "</div>\n",
    "\n",
    "A **Bernoulli trials** are the outcomes of several independent Bernoulli experiments with the same success probabilities.\n",
    "\n",
    "**Example**\n",
    "Consider the coin flip experiment with a biased coin that lands head with probability $p$ and tail with probability $q=1-p$.A single coin flip will be a Bernoulli experiment.$n$ independent coin flips will be a Bernoulli trial."
   ]
  },
  {
   "cell_type": "markdown",
   "metadata": {},
   "source": [
    "### Geometric distribution\n",
    "\n",
    "A random experiment has a probability of success equal to $p$ and probability of failure $q=1-p$. Consider the following new experiment: we are doing consecutive  random trials until we reach a success.The set of outcomes has the form $s=\\overbrace{FF\\cdots F}^{n-1} S$ where number of $F$'s can be any number $n=1,2,\\dots$.  Due to independence, $P(s)=q^np$.  \n",
    "\n",
    "Let $X(s)$ denote the number of trials it took to reach success\n",
    "\n",
    "$$X(\\overbrace{FF\\cdots F}^{n-1} S)=n.$$\n",
    "\n",
    "Observe that \n",
    "\n",
    "$$f(n)=q^{n-1}p,\\quad n=1,2,\\dots.$$\n",
    "\n",
    "**Definition (Geometric distribution)**\n",
    "\n",
    "<div class=\"alert alert-block alert-info\">\n",
    "\n",
    "The pmf of the random variable $X$ is called Geometric distribution.\n",
    "\n",
    "</div>    "
   ]
  },
  {
   "cell_type": "code",
   "execution_count": 6,
   "metadata": {},
   "outputs": [
    {
     "data": {
      "application/vnd.jupyter.widget-view+json": {
       "model_id": "3c71640c2b24435186e2fef03223e0c3",
       "version_major": 2,
       "version_minor": 0
      },
      "text/plain": [
       "interactive(children=(FloatSlider(value=0.4, description='p', max=1.0, min=0.01, readout_format='', step=0.01)…"
      ]
     },
     "metadata": {},
     "output_type": "display_data"
    }
   ],
   "source": [
    "# nbi:hide_in\n",
    "import matplotlib.pyplot as plt\n",
    "import numpy as np\n",
    "from ipywidgets import interact, FloatSlider\n",
    "\n",
    "\n",
    "def geometric_pmf(p):\n",
    "    q = 1-p\n",
    "    N=15\n",
    "    range_x = np.arange(1, N, 1)\n",
    "\n",
    "    def geo_pmf(n):\n",
    "        pmf_val = q**(n-1)*p\n",
    "        return pmf_val\n",
    "    mean = 1/p\n",
    "\n",
    "    pmf_values = np.array([geo_pmf(n) for n in range_x])\n",
    "\n",
    "    # plot setup\n",
    "    plt.figure(figsize=(10,7)) \n",
    "    plt.axhline(y=0, color='k')\n",
    "    plt.ylim(-0.01, max(np.max(pmf_values)+0.05, 0.2))\n",
    "    plt.xlim(0, N+1)\n",
    "    plt.xticks(np.arange(0, N+1, 5))\n",
    "    plt.gca().spines['top'].set_visible(False)\n",
    "    plt.gca().spines['right'].set_visible(False)\n",
    "    plt.gca().spines['bottom'].set_visible(False)\n",
    "\n",
    "    # PLotting with plt.bar instead of plt.hist works better when f(x) are knowwn\n",
    "    plt.scatter(np.array([mean]),np.zeros(1), color =\"red\", s=200, label=\"Mean\", zorder=3)\n",
    "    plt.scatter(range_x,np.zeros(range_x.shape), color =\"red\", s=20)\n",
    "    plt.bar(range_x, pmf_values, width=1, color='#039be5', edgecolor=\"w\", linewidth=1.3)\n",
    "    plt.title(\"Geometric distribution\")\n",
    "    plt.figtext(0.8,0.8, \"p={}\".format(p), ha=\"left\", va=\"top\",\n",
    "            backgroundcolor=(0.1, 0.1, 1, 0.15), fontsize=\"large\")\n",
    "    plt.plot();\n",
    "\n",
    "# create interactive variables\n",
    "p = FloatSlider(min=0.01, max=1, step=0.01, value=0.4, readout_format='')\n",
    "\n",
    "# display the interactive plot\n",
    "interact(geometric_pmf, p=p);"
   ]
  },
  {
   "cell_type": "markdown",
   "metadata": {},
   "source": [
    "### Binomial distribution\n",
    "\n",
    "\n",
    "**Definition**\n",
    "\n",
    "<div class=\"alert alert-block alert-info\">\n",
    "\n",
    "Let $X$ denote the number of successes in $n$ Bernoulli trials with success probability $p$. Then we say that $X$ has the \\textbf{binomial distribution} with parameters $(n,p)$. \n",
    "\n",
    "</div>\n",
    "    \n",
    "If $X$ has binomial distribution with parameters $(n,p)$ then \n",
    "* $\\text{range}(X)=\\{0,1,\\dots, n\\}$.\n",
    "* $$f(x)={n\\choose x}p^xq^{(n-x)}$$ ${n\\choose x}$ ways there can be $x$ successes: the rest $n-x$ are failures."
   ]
  },
  {
   "cell_type": "code",
   "execution_count": 21,
   "metadata": {},
   "outputs": [
    {
     "data": {
      "application/vnd.jupyter.widget-view+json": {
       "model_id": "b443244646984ab49f42dbee61b29ab3",
       "version_major": 2,
       "version_minor": 0
      },
      "text/plain": [
       "interactive(children=(IntSlider(value=20, description='n', min=1, readout_format=''), FloatSlider(value=0.3, d…"
      ]
     },
     "metadata": {},
     "output_type": "display_data"
    }
   ],
   "source": [
    "# nbi:hide_in\n",
    "import matplotlib.pyplot as plt\n",
    "import numpy as np\n",
    "from ipywidgets import interact, FloatSlider, IntSlider\n",
    "from scipy.special import comb\n",
    "\n",
    "def binomial_pmf(n, p):\n",
    "    q = 1-p\n",
    "    range_x = np.arange(0, n, 1)\n",
    "\n",
    "    def binom_pmf(x):\n",
    "        pmf_val = comb(n, x, exact=True) * p**x * q**(n-x)\n",
    "        return pmf_val\n",
    "    mean = n*p\n",
    "\n",
    "    pmf_values = np.array([binom_pmf(x) for x in range_x])\n",
    "    \n",
    "    # plot setup\n",
    "    plt.figure(figsize=(10,7)) \n",
    "    plt.axhline(y=0, color='k')\n",
    "    plt.ylim(-0.01, max(np.max(pmf_values)+0.05, 0.2))\n",
    "    plt.xlim(-1, n+1)\n",
    "    plt.xticks(np.arange(0, n+1, 5))\n",
    "    plt.gca().spines['top'].set_visible(False)\n",
    "    plt.gca().spines['right'].set_visible(False)\n",
    "    plt.gca().spines['bottom'].set_visible(False)\n",
    "    plt.title(\"Binomial distribution\")\n",
    "\n",
    "    # PLotting with plt.bar instead of plt.hist works better when f(x) are knowwn\n",
    "    plt.scatter(np.array([mean]),np.zeros(1), color =\"red\", s=200, zorder=3)\n",
    "    plt.scatter(range_x,np.zeros(range_x.shape), color =\"red\", s=20, zorder=2)\n",
    "    plt.bar(range_x, pmf_values, width=1, color='#039be5', edgecolor=\"w\", linewidth=1.3, zorder=1)\n",
    "    #plt.title(\"Binomial distribution\")\n",
    "    plt.figtext(0.8,0.8, \" n={} \\n p={}\".format(n, p), ha=\"left\", va=\"top\",\n",
    "                backgroundcolor=(0.1, 0.1, 1, 0.15), fontsize=\"large\")\n",
    "    plt.plot();\n",
    "\n",
    "# create interactive variables\n",
    "p = FloatSlider(min=0.01, max=1, step=0.01, value=0.3, readout_format='')\n",
    "n = IntSlider(min=1, max=100, step=1, value=20, readout_format='')\n",
    "# display the interactive plot\n",
    "interact(binomial_pmf, n=n, p=p);"
   ]
  },
  {
   "cell_type": "markdown",
   "metadata": {},
   "source": [
    "#### cdf of the binomial distribution\n",
    "\n",
    "The cdf of the binomial distribution can be computed as \n",
    "$$F(x)=E[X\\leq x]=\\sum_{y=0}^{\\lfloor x\\rfloor}{n\\choose x}p^xq^{(n-x)}\\text{ for } x\\in [0,n].$$\n",
    "\n",
    "However, $F(x)$ does not have a simple closed-form formula. In old times people would use statistical tables that show  precomputed values of the cdf for different choices of parameters $(n,p)$. Nowdays, computers can give you very precise values for the cdf for any $n,p,x$.\n",
    "\n",
    "In the plot below, the shaded area is the value of the cdf at point $x$. The point $x$ is the black dot on the plot. The value of the cdf up to 4 digit precision is given at the top of the plot. "
   ]
  },
  {
   "cell_type": "code",
   "execution_count": 22,
   "metadata": {},
   "outputs": [
    {
     "data": {
      "application/vnd.jupyter.widget-view+json": {
       "model_id": "4058198aea7d498696df1025106e2544",
       "version_major": 2,
       "version_minor": 0
      },
      "text/plain": [
       "interactive(children=(IntSlider(value=20, description='n', min=1, readout_format=''), FloatSlider(value=0.3, d…"
      ]
     },
     "metadata": {},
     "output_type": "display_data"
    }
   ],
   "source": [
    "# nbi:hide_in\n",
    "import matplotlib.pyplot as plt\n",
    "import numpy as np\n",
    "from ipywidgets import interact, FloatSlider, IntSlider\n",
    "from scipy.special import comb\n",
    "from scipy.stats import binom\n",
    "\n",
    "def binomial_cdf(n, p, x):\n",
    "    q = 1-p\n",
    "    range_x = np.arange(0, n, 1)\n",
    "\n",
    "    def binom_pmf(x):\n",
    "        pmf_val = comb(n, x, exact=True) * p**x * q**(n-x)\n",
    "        return pmf_val\n",
    "    mean = n*p\n",
    "\n",
    "    pmf_values = np.array([binom_pmf(x) for x in range_x])\n",
    "    \n",
    "    # plot setup\n",
    "    plt.figure(figsize=(10,7)) \n",
    "    plt.axhline(y=0, color='k')\n",
    "    plt.ylim(-0.01, max(np.max(pmf_values)+0.05, 0.2))\n",
    "    plt.xlim(-4, n+2)\n",
    "    plt.gca().spines['top'].set_visible(False)\n",
    "    plt.gca().spines['right'].set_visible(False)\n",
    "    plt.gca().spines['bottom'].set_visible(False)\n",
    "\n",
    "    # PLotting with plt.bar instead of plt.hist works better when f(x) are knowwn\n",
    "#     plt.scatter(x,np.zeros(1), color =\"red\", s=100, zorder=3)\n",
    "    plt.scatter(range_x,np.zeros(range_x.shape), color =\"red\", s=20,zorder=2)\n",
    "    barlist = plt.bar(range_x, pmf_values, width=1, color=(1, 1, 1, 0), edgecolor='#039be5',\n",
    "                      linewidth=1, label=\"Histogran\", zorder=1)\n",
    "    for ind, val in enumerate(range_x):\n",
    "        if val<=x:\n",
    "            barlist[ind].set_color('#039be5')\n",
    "            barlist[ind].set_edgecolor(\"w\")    \n",
    "    cdf = binom.cdf(x, n, p)\n",
    "    plt.title(\"cdf and pdf of binomial distribution\" )\n",
    "    plt.figtext(0.7,0.8, \" n={} \\n p={} \\n x={} \\n cdf = {:.4f}\".format(n, p, x, cdf), ha=\"left\", va=\"top\",\n",
    "                backgroundcolor=(0.1, 0.1, 1, 0.15), fontsize=\"large\")\n",
    "    plt.plot();\n",
    "\n",
    "# create interactive variables\n",
    "p = FloatSlider(min=0.01, max=1, step=0.01, value=0.3, readout_format='')\n",
    "n = IntSlider(min=1, max=100, step=1, value=20, readout_format='')\n",
    "x = FloatSlider(min=-4, max=10, step=0.1, value=6.75, readout_format='')\n",
    "\n",
    "# enforce values for x\n",
    "def update_range(*args):\n",
    "    x.max = max(n.value+4,10)\n",
    "n.observe(update_range, 'value')\n",
    "\n",
    "# display the interactive plot\n",
    "interact(binomial_cdf, n=n, p=p, x=x);"
   ]
  }
 ],
 "metadata": {
  "kernelspec": {
   "display_name": "Python 3",
   "language": "python",
   "name": "python3"
  },
  "language_info": {
   "codemirror_mode": {
    "name": "ipython",
    "version": 3
   },
   "file_extension": ".py",
   "mimetype": "text/x-python",
   "name": "python",
   "nbconvert_exporter": "python",
   "pygments_lexer": "ipython3",
   "version": "3.7.7"
  }
 },
 "nbformat": 4,
 "nbformat_minor": 4
}
