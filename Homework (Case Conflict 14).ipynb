{
 "cells": [
  {
   "cell_type": "code",
   "execution_count": 34,
   "metadata": {},
   "outputs": [
    {
     "data": {
      "image/png": "[encoded data removed]",
      "text/plain": [
       "<Figure size 576x360 with 1 Axes>"
      ]
     },
     "metadata": {
      "needs_background": "light"
     },
     "output_type": "display_data"
    }
   ],
   "source": [
    "# nbi:hide_in\n",
    "# library\n",
    "import matplotlib.pyplot as plt\n",
    "import numpy as np\n",
    "fig, ax2 = plt.subplots(num=1, clear=True)\n",
    "\n",
    "\n",
    "ax2.set_ylim(-0.01, 0.2) \n",
    "ax2.set_xlim(-0.7, 10)\n",
    "ax2.axhline(y=0, color='k')\n",
    "ax2.set_xticks(range_x)\n",
    "ax2.set_yticks(pmf_values)\n",
    "ax2.spines[\"top\"].set_visible(False)  \n",
    "ax2.spines[\"right\"].set_visible(False)\n",
    "ax2.spines[\"bottom\"].set_visible(False)\n",
    "\n",
    "data=np.array([1,6,9,9,3,8,5,0,6,7,5,7,5,9,4,6,5,6,4,4,4,8,0,9,3,2,1,5,4,5,7,3,2,\n",
    "      1,4,6,7,1,3,4,4,8,8,6,1,6,1,2,8,8,1,7,8,2,2,0,9,7,5,2,5,7,1,7,0,1,\n",
    "      8,5,2,9,2,4,7,6,6,6,3,3,6,9,6,0,2,3,6,0,1,7,8,9,1,3,7,0,9,8,5,3,4,\n",
    "      8,2,6,6,4,2,7,5,0,8,2,7,6,8,9,9,7,9,0,0,0,9,3,3,4,5,1,9,4,5,4,6,4,\n",
    "      8,7,6,8,6,6,2,3,6,6,1,7,4,1,8,9,8,8])\n",
    "\n",
    "range_x=np.arange(0,10)\n",
    "\n",
    "# compute empirical pmf\n",
    "def epmf(data):\n",
    "    erange_x, counts = np.unique(data, return_counts=True)\n",
    "    epmf_values = counts/data.size\n",
    "    return epmf_values, erange_x\n",
    "\n",
    "epmf_values, erange_x = epmf(data)\n",
    "\n",
    "\n",
    "ax2.scatter(range_x,np.zeros(range_x.shape), color =\"red\", s=20)\n",
    "ax2.bar(erange_x, epmf_values, width=0.9, color=(1, 1, 1, 0), \n",
    "        edgecolor='green', linewidth=1,linestyle=\"--\", label=\"Relative frequency histogram\")\n",
    "\n",
    "plt.legend()\n",
    "plt.show();"
   ]
  },
  {
   "cell_type": "code",
   "execution_count": 12,
   "metadata": {},
   "outputs": [
    {
     "data": {
      "image/png": "[encoded data removed]",
      "text/plain": [
       "<Figure size 576x360 with 1 Axes>"
      ]
     },
     "metadata": {
      "needs_background": "light"
     },
     "output_type": "display_data"
    }
   ],
   "source": [
    "range_x=np.arange(0,10)\n",
    "pmf_values=np.ones(range_x.size)/range_x.size\n",
    "\n",
    "fig, ax2 = plt.subplots(num=1, clear=True)\n",
    "\n",
    "\n",
    "ax2.set_ylim(-0.01, 0.12) \n",
    "ax2.set_xlim(-0.7, 10)\n",
    "ax2.axhline(y=0, color='k')\n",
    "ax2.set_xticks(range_x)\n",
    "ax2.set_yticks(pmf_values)\n",
    "ax2.spines[\"top\"].set_visible(False)  \n",
    "ax2.spines[\"right\"].set_visible(False)\n",
    "ax2.spines[\"bottom\"].set_visible(False)\n",
    "\n",
    "\n",
    "# PLotting with plt.bar instead of plt.hist works better when f(x) are knowwn\n",
    "ax2.scatter(range_x,np.zeros(range_x.shape), color =\"red\", s=20)\n",
    "ax2.bar(range_x, pmf_values, width=1, color='#039be5', edgecolor=\"w\", linewidth=1.3, label=\"Histogran\")\n",
    "ax2.set_title(\"Histogram\")\n",
    "\n",
    "\n",
    "plt.show();"
   ]
  },
  {
   "cell_type": "code",
   "execution_count": 29,
   "metadata": {},
   "outputs": [
    {
     "data": {
      "text/plain": [
       "'1,6,9,9,3,8,5,0,6,7,5,7,5,9,4,6,5,6,4,4,4,8,0,9,3,2,1,5,4,5,7,3,2,1,4,6,7,1,3,4,4,8,8,6,1,6,1,2,8,8,1,7,8,2,2,0,9,7,5,2,5,7,1,7,0,1,8,5,2,9,2,4,7,6,6,6,3,3,6,9,6,0,2,3,6,0,1,7,8,9,1,3,7,0,9,8,5,3,4,8,2,6,6,4,2,7,5,0,8,2,7,6,8,9,9,7,9,0,0,0,9,3,3,4,5,1,9,4,5,4,6,4,8,7,6,8,6,6,2,3,6,6,1,7,4,1,8,9,8,8,'"
      ]
     },
     "execution_count": 29,
     "metadata": {},
     "output_type": "execute_result"
    }
   ],
   "source": [
    "import re\n",
    "\n",
    "text=\"169 938 506 757 594 656 444 809 321 545 732 146 713 448 861 612 881 782 209 752 571 701 852 924 766 633 696 023 601 789 137 098 534 826 642 750 827 689 979 000 933 451 945 464 876 866 236 617 418 988\"\n",
    "\n",
    "newtext=re.sub(r\"\\s\",\"\",text)\n",
    "\n",
    "re.sub(r\"(\\d)\",r\"\\g<1>,\",newtext)\n"
   ]
  },
  {
   "cell_type": "code",
   "execution_count": null,
   "metadata": {},
   "outputs": [],
   "source": []
  }
 ],
 "metadata": {
  "kernelspec": {
   "display_name": "Python 3",
   "language": "python",
   "name": "python3"
  },
  "language_info": {
   "codemirror_mode": {
    "name": "ipython",
    "version": 3
   },
   "file_extension": ".py",
   "mimetype": "text/x-python",
   "name": "python",
   "nbconvert_exporter": "python",
   "pygments_lexer": "ipython3",
   "version": "3.7.7"
  }
 },
 "nbformat": 4,
 "nbformat_minor": 4
}
