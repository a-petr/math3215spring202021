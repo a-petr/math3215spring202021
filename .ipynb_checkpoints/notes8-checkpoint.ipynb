{
 "cells": [
  {
   "cell_type": "markdown",
   "metadata": {
    "slideshow": {
     "slide_type": "slide"
    }
   },
   "source": [
    "# 8: Random number generation\n",
    "\n",
    "\n",
    " #### [Back to main page](https://petrosyan.page/fall2020math3215)\n"
   ]
  },
  {
   "cell_type": "markdown",
   "metadata": {},
   "source": [
    "### Sampling from the logistic function"
   ]
  },
  {
   "cell_type": "markdown",
   "metadata": {},
   "source": [
    "The logistic function has the following form\n",
    "\n",
    "$$F(X)=\\frac{e^x}{1+e^x}\\quad \\Rightarrow \\quad  f(x)=\\frac{e^x}{(1+e^x)^2}.$$\n"
   ]
  },
  {
   "cell_type": "code",
   "execution_count": 4,
   "metadata": {},
   "outputs": [
    {
     "data": {
      "application/vnd.jupyter.widget-view+json": {
       "model_id": "fce5684cea4f469bad5016149b4e4899",
       "version_major": 2,
       "version_minor": 0
      },
      "text/plain": [
       "interactive(children=(FloatSlider(value=0.6, description='x', max=10.0, min=-10.0, readout_format=''), Output(…"
      ]
     },
     "metadata": {},
     "output_type": "display_data"
    }
   ],
   "source": [
    "# nbi:hide_in\n",
    "import matplotlib.pyplot as plt\n",
    "import numpy as np\n",
    "from ipywidgets import interact, FloatSlider\n",
    "plt.rcParams['figure.figsize'] = (16, 5)\n",
    "\n",
    "\n",
    "def logistic_cdf_pdf(x):\n",
    "    xdata = np.linspace(-10, 10, 1000)\n",
    "    def cdf_func(xdata):\n",
    "        val = np.divide(np.exp(xdata), 1+np.exp(xdata))\n",
    "        return val\n",
    "    def pdf_func(xdata):\n",
    "        val = np.divide(np.exp(xdata), (1+np.exp(xdata)**2))\n",
    "        return val\n",
    "    \n",
    "    fig, [ax1, ax2] = plt.subplots(1, 2)\n",
    "    \n",
    "    ax1.plot(xdata, pdf_func(xdata))\n",
    "    xshade = xdata[xdata<=x]\n",
    "    ax1.fill_between(xshade, pdf_func(xshade), alpha=0.3)\n",
    "    ax1.scatter(x,0, s=30)\n",
    "    ax1.axhline(y=0, color='k', linewidth=0.5)\n",
    "    ax1.set_xlim(-10, 10)\n",
    "    ax1.set_ylim(-0.06,0.6)\n",
    "    ax1.set_xticks([x])\n",
    "    ax1.set_xticklabels([\"x={}\".format(x)])\n",
    "    ax1.set_title(\"pdf\")\n",
    "    ax1.spines['top'].set_visible(False)\n",
    "    ax1.spines['right'].set_visible(False)\n",
    "    \n",
    "    ax2.plot(xdata, cdf_func(xdata))\n",
    "    ax2.vlines(x, 0, cdf_func(x), linestyle=\"dashed\", alpha=0.4)\n",
    "    ax2.scatter(x,0, s=30)\n",
    "    ax2.axhline(y=0, color='k', linewidth=0.5)\n",
    "    ax2.set_xlim(-10, 10)\n",
    "    ax2.set_ylim(-0.1,1.1)\n",
    "    ax2.set_xticks([x])\n",
    "    ax2.set_xticklabels([\"x={}\".format(x)])\n",
    "    ax2.set_title(\"cdf\")\n",
    "    ax2.spines['top'].set_visible(False)\n",
    "    ax2.spines['right'].set_visible(False)\n",
    "    \n",
    "    plt.show();\n",
    "    \n",
    "# create interactive variables\n",
    "x = FloatSlider(min=-10, max=10, step=0.1, value=0.6, readout_format='')\n",
    "\n",
    "# display the interactive plot\n",
    "interact(logistic_cdf_pdf, x=x);    "
   ]
  },
  {
   "cell_type": "markdown",
   "metadata": {},
   "source": [
    "To apply the inverse transform method we note that \n",
    "\n",
    "* $y=\\frac{e^x}{1+e^x}\\Rightarrow e^x=\\frac{1-y}{y}.$   \n",
    "* $F^{-1}(y)=\\log(1-y)-\\log(y).$"
   ]
  },
  {
   "cell_type": "code",
   "execution_count": 5,
   "metadata": {},
   "outputs": [],
   "source": [
    "# The following code generates samples from the logistic distribution\n",
    "import numpy as np\n",
    "\n",
    "def logistic_inv(y):\n",
    "    return np.log(1-y)-np.log(y)\n",
    "    \n",
    "#  random sample from uniform distribution on [0,1)\n",
    "y = np.random.sample(20)    \n",
    "\n",
    "# random sample from logistic distribution\n",
    "x = logistic_inv(y)"
   ]
  },
  {
   "cell_type": "code",
   "execution_count": 8,
   "metadata": {},
   "outputs": [
    {
     "data": {
      "image/png": "[encoded data removed]",
      "text/plain": [
       "<Figure size 504x432 with 1 Axes>"
      ]
     },
     "metadata": {
      "needs_background": "light"
     },
     "output_type": "display_data"
    }
   ],
   "source": [
    "# nbi:hide_in\n",
    "import numpy as np\n",
    "\n",
    "# plot setup\n",
    "plt.figure(figsize=(7,6)) \n",
    "plt.gca().spines['top'].set_visible(False)\n",
    "plt.gca().spines['right'].set_visible(False)\n",
    "plt.gca().spines['bottom'].set_position(('data',0))\n",
    "\n",
    "def logistic_inv(y):\n",
    "    return np.log(1-y)-np.log(y)\n",
    "\n",
    "def cdf_func(xdata):\n",
    "    val = np.divide(np.exp(xdata), 1+np.exp(xdata))\n",
    "    return val\n",
    "\n",
    "def ecdf(xdata):\n",
    "    erange_x, counts = np.unique(xdata, return_counts=True)\n",
    "    cdf_emp = np.cumsum(counts)/xdata.size\n",
    "    return cdf_emp, erange_x\n",
    "\n",
    "# add padding \n",
    "def padding(cdf_values, range_x):\n",
    "    edge = (range_x[0]-2, range_x[-1]+2)\n",
    "    range_x_padded = np.pad(range_x, (1,1), 'constant', constant_values=edge)\n",
    "    cdf_values_padded = np.pad(cdf_values, (1,1), 'constant', constant_values=(0, 1))\n",
    "    return cdf_values_padded, range_x_padded\n",
    "\n",
    "# generate random sample from uniform distribution\n",
    "ydata = np.random.sample((20,))\n",
    "\n",
    "# apply inverse of logistic\n",
    "xdata = logistic_inv(ydata)\n",
    "xdata = np.sort(xdata)\n",
    "\n",
    "# compute empirical cdf\n",
    "ecdf_values, erange_x = ecdf(xdata)\n",
    "ecdf_values_padded, erange_x_padded = padding(ecdf_values, erange_x)\n",
    "\n",
    "# the true cdf\n",
    "N=100\n",
    "delta = 1/N\n",
    "xval = np.linspace(np.min(xdata)-4, np.max(xdata)+4, 1000)\n",
    "    \n",
    "# plot\n",
    "plt.plot(xval, cdf_func(xval), label ='True cdf')\n",
    "plt.step(erange_x_padded, ecdf_values_padded, where='post', \n",
    "         color=\"green\", linewidth=1, label='Empirical cdf')\n",
    "plt.legend()\n",
    "plt.show();\n",
    "\n"
   ]
  }
 ],
 "metadata": {
  "kernelspec": {
   "display_name": "Python 3",
   "language": "python",
   "name": "python3"
  },
  "language_info": {
   "codemirror_mode": {
    "name": "ipython",
    "version": 3
   },
   "file_extension": ".py",
   "mimetype": "text/x-python",
   "name": "python",
   "nbconvert_exporter": "python",
   "pygments_lexer": "ipython3",
   "version": "3.7.7"
  }
 },
 "nbformat": 4,
 "nbformat_minor": 4
}
