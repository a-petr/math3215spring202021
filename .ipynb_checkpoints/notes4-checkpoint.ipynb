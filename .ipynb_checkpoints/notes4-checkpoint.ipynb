{
 "cells": [
  {
   "cell_type": "markdown",
   "metadata": {
    "slideshow": {
     "slide_type": "slide"
    }
   },
   "source": [
    "# 3: Mathematical expectation\n",
    "\n",
    "\n",
    " #### [Back to main page](https://petrosyan.page/fall2020math3215)\n"
   ]
  },
  {
   "cell_type": "code",
   "execution_count": 1,
   "metadata": {},
   "outputs": [
    {
     "data": {
      "image/png": "[encoded data removed]",
      "text/plain": [
       "<Figure size 720x504 with 1 Axes>"
      ]
     },
     "metadata": {
      "needs_background": "light"
     },
     "output_type": "display_data"
    }
   ],
   "source": [
    "# nbi:hide_in\n",
    "# library\n",
    "import matplotlib.pyplot as plt\n",
    "import numpy as np\n",
    "plt.rcParams[\"figure.figsize\"] = (10, 7)\n",
    "\n",
    "\n",
    "range_x = np.array([0, 1, 2, 3, 5, 7])\n",
    "pmf_values = np.array([1/20, 1/10, 2/10, 7/20, 2/10, 1/10])\n",
    "\n",
    "fig, ax2 = plt.subplots(num=1, clear=True)\n",
    "\n",
    "\n",
    "ax2.set_ylim(-0.03, 0.4) \n",
    "ax2.set_xlim(-0.7, 8)\n",
    "ax2.axhline(y=0, color='k')\n",
    "ax2.set_xticks(range_x)\n",
    "ax2.set_yticks(pmf_values)\n",
    "ax2.spines[\"top\"].set_visible(False)  \n",
    "ax2.spines[\"right\"].set_visible(False)\n",
    "ax2.spines[\"bottom\"].set_visible(False)\n",
    "\n",
    "\n",
    "# PLotting with plt.bar instead of plt.hist works better when f(x) are knowwn\n",
    "ax2.scatter(range_x,np.zeros(range_x.shape), color =\"red\", s=20)\n",
    "ax2.bar(range_x, pmf_values, width=1, color='#039be5', edgecolor=\"w\", linewidth=1.3, label=\"Histogran\")\n",
    " \n",
    "mean = np.average(range_x, weights=pmf_values)\n",
    "ax2.scatter(np.array([mean]),np.zeros(1), color =\"red\", s=200, label=\"Mean\", zorder=3)\n",
    "\n",
    "plt.show();\n",
    "                       "
   ]
  },
  {
   "cell_type": "markdown",
   "metadata": {},
   "source": [
    "### Mean and Variance under linear transformation"
   ]
  },
  {
   "cell_type": "markdown",
   "metadata": {},
   "source": [
    "**Theorem**\n",
    "\n",
    "<div class=\"alert alert-block alert-info\">\n",
    "\n",
    "Suppose $X$ is a random variable with mean $\\mu_X$ and standard deviation $\\sigma_Y$. Let $Y=aX+b$ where $a$ and $b$ are any two numbers. Then mean and the standard deviation of $Y$ are\n",
    "$$\\mu_Y=a\\mu_X+b,\\quad \\sigma_Y=|a|\\sigma_X.$$\n",
    "\n",
    "</div>    \n",
    "    \n",
    "**Proof**\n",
    "$\\mu_Y=E[aX+b]=aE[X]+b=a\\mu_X+b.$ Notice that\n",
    "\n",
    "$$\\text{Var}(Y)=E[(Y-E[Y])^2]=E[(aX+b-aE[X]-b)^2]=E[(aX-aE[X])^2]=a^2\\text{Var}(X).$$\n",
    "\n",
    "Taking square roots, we have $\\sigma_Y=|a|\\sigma_X$. $\\blacksquare$\n"
   ]
  },
  {
   "cell_type": "markdown",
   "metadata": {},
   "source": [
    "**Example**\n",
    "\n",
    "Let $X$ be a random variable with $\\text{range}(X)=\\{-2,-1,0,1,2\\}$ and \n",
    "\n",
    "$$f_X(-2)=0.4, \\quad f_X(-1)=0.25, \\quad f_X(0)=0.15, \\quad f_X(1)=0.1, \\quad f_X(2)=0.1.$$\n",
    "\n",
    "Take the random variable $Y=2X+1$.Notice that $\\text{range}(Y)=\\{-3,-1,1,3,5\\}$ and \n",
    "\n",
    "$$_Y(-3)=0.4, \\quad f_Y(-1)=0.25, \\quad f_Y(1)=0.15, \\quad f_Y(3)=0.1, \\quad f_Y(5)=0.1.$$\n",
    "\n",
    "It can be checked that \n",
    "\n",
    "$$\\mu_X=-0.75, \\quad \\sigma_X\\approx 1.414$$\n",
    "\n",
    "and thus \n",
    "\n",
    "$$\\mu_Y=-0.5, \\quad \\sigma_Y\\approx 2.828.  $$"
   ]
  },
  {
   "cell_type": "code",
   "execution_count": 7,
   "metadata": {},
   "outputs": [
    {
     "data": {
      "image/png": "[encoded data removed]",
      "text/plain": [
       "<Figure size 1440x720 with 2 Axes>"
      ]
     },
     "metadata": {
      "needs_background": "light"
     },
     "output_type": "display_data"
    }
   ],
   "source": [
    "# nbi:hide_in\n",
    "import matplotlib.pyplot as plt\n",
    "import numpy as np\n",
    "plt.figure(figsize=(20,10)) \n",
    "\n",
    "# values\n",
    "range_x = np.array([-2,-1,0,1,2])\n",
    "range_y = np.array([-3,-1,1,3,5])\n",
    "xpmf_values = np.array([0.4, 0.25, 0.15, 0.1, 0.1])\n",
    "ypmf_values = np.array([0.4, 0.25, 0.15, 0.1, 0.1])\n",
    "\n",
    "# mean  \n",
    "mean_x = np.average(range_x, weights = xpmf_values)\n",
    "mean_y = np.average(range_y, weights = ypmf_values)\n",
    "\n",
    "# variance\n",
    "mean_x2 = np.average(np.power(range_x,2), weights = xpmf_values)\n",
    "mean_y2 = np.average(np.power(range_y,2), weights = ypmf_values)\n",
    "var_x = mean_x2 - mean_x**2\n",
    "var_y = mean_y2 - mean_y**2\n",
    "\n",
    "# set up the figure\n",
    "fig, [ax1, ax2] = plt.subplots(1,2, num=1, clear=True)\n",
    "\n",
    "ax1.set_ylim(-0.01,0.5) \n",
    "ax1.set_xlim(-5, 10)\n",
    "ax1.axhline(y=0, color='k', linewidth = 0.6)\n",
    "ax1.set_xticks(range_x)\n",
    "ax1.set_yticks(xpmf_values)\n",
    "ax1.spines[\"top\"].set_visible(False)  \n",
    "ax1.spines[\"right\"].set_visible(False)\n",
    "ax1.spines[\"bottom\"].set_visible(False)\n",
    "\n",
    "ax2.set_ylim(-0.01, 0.5) \n",
    "ax2.set_xlim(-5, 10)\n",
    "ax2.axhline(y=0, color='k', linewidth = 0.6)\n",
    "ax2.set_xticks(range_y)\n",
    "ax2.set_yticks(ypmf_values)\n",
    "ax2.spines[\"top\"].set_visible(False)  \n",
    "ax2.spines[\"right\"].set_visible(False)\n",
    "ax2.spines[\"bottom\"].set_visible(False)\n",
    "\n",
    "# \n",
    "ax1.scatter(np.array([mean_x]),np.zeros(1), color =\"red\", s=150, zorder=3)\n",
    "ax1.scatter(range_x,np.zeros(range_x.shape), color =\"red\", s=20, zorder=2)\n",
    "ax1.bar(range_x, xpmf_values, width=1, color='#039be5', edgecolor=\"w\", linewidth=1.3, zorder=1)\n",
    "ax1.set_title(r\"$\\mu_X=${:.2f}, $\\sigma^2_X\\approx${:.3f}\".format(mean_x, var_x))\n",
    "\n",
    "\n",
    "# \n",
    "ax2.scatter(np.array([mean_y]),np.zeros(1), color =\"red\", s=150, zorder=3)\n",
    "ax2.scatter(range_y,np.zeros(range_y.shape), color =\"red\", s=20, zorder=2)\n",
    "ax2.bar(range_y, ypmf_values, width=1, color='#039be5', edgecolor=\"w\", linewidth=1.3, zorder=1)\n",
    "ax2.set_title(r\"$\\mu_Y=${:.2f}, $\\sigma^2_Y\\approx${:.3f}\".format(mean_y, var_y))\n",
    "\n",
    "plt.show();\n"
   ]
  },
  {
   "cell_type": "markdown",
   "metadata": {},
   "source": [
    "### Negative binomial distribution\n",
    "\n",
    "\n",
    "**Definition**\n",
    "\n",
    "<div class=\"alert alert-block alert-info\">\n",
    "\n",
    "Let $X$ be the number of independent Bernoulli trials with success probability $p$ needed until exactly r successes occur. Then we say $X$ has the **negative binomial distribution** with parameters $(r,p)$.\n",
    "</div>\n",
    "\n",
    "\n",
    "* $\\text{range}(X)=\\{r,r+1,\\dots\\}.$\n",
    "*If $X(s)=x$, means there are $r-1$ successes and $x-r$ fails in the first $x-1$ trials and the $x-th $ trial is a success. Therefore\n",
    "\n",
    "$$f(x)={x-1\\choose r-1}p^{r}q^{x-r}.$$\n",
    "\n",
    "* When $r=1$, the negative binomial distribution is the same as the geometric distribution. "
   ]
  },
  {
   "cell_type": "code",
   "execution_count": 9,
   "metadata": {},
   "outputs": [
    {
     "data": {
      "application/vnd.jupyter.widget-view+json": {
       "model_id": "29a0363f73f840da9fd6de906a741846",
       "version_major": 2,
       "version_minor": 0
      },
      "text/plain": [
       "interactive(children=(IntSlider(value=30, description='r', max=50, min=1, readout_format=''), FloatSlider(valu…"
      ]
     },
     "metadata": {},
     "output_type": "display_data"
    }
   ],
   "source": [
    "# nbi:hide_in\n",
    "import matplotlib.pyplot as plt\n",
    "import numpy as np\n",
    "from ipywidgets import interact, FloatSlider, IntSlider\n",
    "from scipy.special import comb\n",
    "\n",
    "def negbinomial_pmf(r, p):\n",
    "    q = 1-p\n",
    "    N=100\n",
    "    range_x = np.arange(r, N, 1)\n",
    "\n",
    "    def negbin_pmf(x):\n",
    "        pmf_val = comb(x-1, r-1, exact=True) * p**r * q**(x-r)\n",
    "        return pmf_val\n",
    "    mean = r/p\n",
    "\n",
    "    pmf_values = np.array([negbin_pmf(x) for x in range_x])\n",
    "\n",
    "    # plot setup\n",
    "    plt.figure(figsize=(14,7)) \n",
    "    plt.axhline(y=0, color='k', linewidth = 0.6)\n",
    "    plt.ylim(-0.01, max(np.max(pmf_values)+0.05, 0.1))\n",
    "    plt.xlim(np.min(range_x)-2, N+1)\n",
    "    plt.gca().spines['top'].set_visible(False)\n",
    "    plt.gca().spines['right'].set_visible(False)\n",
    "    plt.gca().spines['bottom'].set_visible(False)\n",
    "\n",
    "    # PLotting with plt.bar instead of plt.hist works better when f(x) are knowwn\n",
    "    plt.scatter(np.array([mean]),np.zeros(1), color =\"red\", s=200,zorder=3)\n",
    "    plt.scatter(range_x,np.zeros(range_x.shape), color =\"red\", s=20, zorder=2)\n",
    "    plt.bar(range_x, pmf_values,width=1, color='#039be5', edgecolor=\"w\", linewidth=1.3, zorder=1)\n",
    "    plt.title(\"Negative binomial distribution\")\n",
    "    plt.figtext(0.8,0.8, \" r={} \\n p={} \".format(r,p), ha=\"left\", va=\"top\",\n",
    "            backgroundcolor=(0.1, 0.1, 1, 0.15), fontsize=\"large\")\n",
    "    plt.plot();\n",
    "\n",
    "# create interactive variables\n",
    "r = IntSlider(min=1, max=50, step=1, value=30, readout_format='')\n",
    "p = FloatSlider(min=0.01, max=1, step=0.01, value=0.5, readout_format='')\n",
    "\n",
    "# display the interactive plot\n",
    "interact(negbinomial_pmf, r=r, p=p);"
   ]
  },
  {
   "cell_type": "markdown",
   "metadata": {},
   "source": [
    "### Poisson distribution\n",
    "\n",
    "\n",
    "**Definition**\n",
    "\n",
    "<div class=\"alert alert-block alert-info\">\n",
    "\n",
    "A discrete random variable has Poisson distribution with parameter $\\lambda>0$ if \n",
    "\n",
    "$$\\text{range}(X)=\\{0,1,2,3,\\dots\\}$$\n",
    "\n",
    "and \n",
    "\n",
    "$$f(x)=\\frac{e^{-\\lambda}\\lambda^x}{x!},\\quad x\\in\\text{range}(X).$$\n",
    "\n",
    "$\\lambda$ is called the **expected rate**.\n",
    "</div>\n",
    "\n",
    " Notice that $f(x)$ is indeed a pmf:\n",
    " \n",
    "$$\\sum_{x\\in \\text{range}(X)}f(x)=\\sum_{x=0}^\\infty \\frac{e^{-\\lambda}\\lambda^x}{x!}=e^{-\\lambda} \\sum_{x=0}^\\infty \\frac{\\lambda^x}{x!}=e^{-\\lambda}e^{\\lambda}=1.$$\n"
   ]
  },
  {
   "cell_type": "code",
   "execution_count": 11,
   "metadata": {},
   "outputs": [
    {
     "data": {
      "application/vnd.jupyter.widget-view+json": {
       "model_id": "ce4cad0bfde54e178a59f4800324c50a",
       "version_major": 2,
       "version_minor": 0
      },
      "text/plain": [
       "interactive(children=(FloatSlider(value=6.0, description='$\\\\lambda$', readout_format='', step=0.5), Output())…"
      ]
     },
     "metadata": {},
     "output_type": "display_data"
    }
   ],
   "source": [
    "# nbi:hide_in\n",
    "import matplotlib.pyplot as plt\n",
    "import numpy as np\n",
    "from scipy.special import factorial\n",
    "from ipywidgets import interact, FloatSlider\n",
    "\n",
    "\n",
    "def poisson_pmf(lam):\n",
    "    N=50\n",
    "    range_x = np.arange(0, N, 1)\n",
    "\n",
    "    def poiss_pmf(x):\n",
    "        pmf_val = np.exp(-lam) * np.power(lam, x) / factorial(x)\n",
    "        return pmf_val\n",
    "    mean = lam\n",
    "\n",
    "    pmf_values = np.array([poiss_pmf(x) for x in range_x])\n",
    "\n",
    "    # plot setup\n",
    "    plt.figure(figsize=(14,7)) \n",
    "    plt.axhline(y=0, color='k', linewidth = 0.6)\n",
    "    plt.ylim(-0.01, max(np.max(pmf_values)+0.05, 0.1))\n",
    "    plt.xlim(0, N+1)\n",
    "    plt.xticks(np.arange(0, N+1, 5))\n",
    "    plt.gca().spines['top'].set_visible(False)\n",
    "    plt.gca().spines['right'].set_visible(False)\n",
    "    plt.gca().spines['bottom'].set_visible(False)\n",
    "\n",
    "    # PLotting with plt.bar instead of plt.hist works better when f(x) are knowwn\n",
    "    plt.scatter(np.array([mean]),np.zeros(1), color =\"red\", s=200, zorder=3)\n",
    "    plt.scatter(range_x,np.zeros(range_x.shape), color =\"red\", s=20, zorder=2)\n",
    "    plt.bar(range_x, pmf_values, width=1, color='#039be5', edgecolor=\"w\", linewidth=1.3, zorder=1)\n",
    "    plt.title(\"Poisson distribution\")\n",
    "    plt.figtext(0.8,0.8, r\"$\\lambda$={}\".format(lam), ha=\"left\", va=\"top\",\n",
    "            backgroundcolor=(0.1, 0.1, 1, 0.15), fontsize=\"large\")\n",
    "    plt.plot();\n",
    "\n",
    "# create interactive variables\n",
    "lam = FloatSlider(min=0.0, max=100, step=0.5, value=6, readout_format='', description=r\"$\\lambda$\")\n",
    "\n",
    "# display the interactive plot\n",
    "interact(poisson_pmf, lam=lam);"
   ]
  },
  {
   "cell_type": "markdown",
   "metadata": {},
   "source": [
    "#### Motivation \n",
    "\n",
    "The Poisson distribution arises in the following way (made up scenario): grocery route bus can arrive every $\\frac{1}{n}$ hour. It is a very unpredictable bus but we know that there are on average $\\lambda$ buses arriving every hour. Assuming whether a bus arrives or not at given time  is independent from  other times, this becomes a binomial distribution with parameter $p=\\frac{\\lambda}{n}$. We know that the expect number of successes in a binomial distribution with parameters $(n,p)$ is $np$ and so $p=\\frac{\\lambda}{n}$. Therefore, the probability of $x$ number of buses arriving in an hour will be\n",
    "\n",
    "$$f(x)={n\\choose x}p^x(1-p)^{n-x}={n\\choose x}\\left(\\frac{\\lambda}{n}\\right)^x\\left(1-\\frac{\\lambda}{n}\\right)^{n-x},\\quad x=0,1,2,\\dots, n. $$\n",
    "\n",
    "* Now imagine the bus starts arriving at more irregular times. To accommodate that we can increase the $n$. \n",
    "* When $n\\to \\infty$ that will correspond to the buses potentially arriving at any moment in the continuous interval. \n",
    "* In that case\n",
    "\n",
    "$$f(x)=\\lim_{n\\to \\infty}{n\\choose x}\\left(\\frac{\\lambda}{n}\\right)^x\\left(1-\\frac{\\lambda}{n}\\right)^{n-x}, \\quad x=0,1,2,\\dots.$$\n",
    "\n",
    "To compute this limit notice that \n",
    "\n",
    "$$\\lim_{n\\to \\infty}{n\\choose x}\\left(\\frac{\\lambda}{n}\\right)^x=\\frac{\\lambda^x}{x!}\\lim_{n\\to \\infty}\\frac{n(n-1)\\cdots (n-x+1)}{•n^x}=\\frac{\\lambda^x}{x!}$$\n",
    "\n",
    "and (you should know this from calculus)\n",
    "\n",
    "$$\\lim_{n\\to \\infty}\\left(1-\\frac{\\lambda}{n}\\right)^{n-x}=e^{-\\lambda}.$$\n",
    "\n",
    "Consequently, if the buses can potentially arrive any moment within the hour, with $\\lambda$ buses arriving in average  at every hour, then the probability that $x$ buses will arrive in a given hour is \n",
    "$$f(x)=\\frac{e^{-\\lambda}\\lambda^x}{x!},\\quad x=0,1,2,\\dots.$$\n",
    "\n"
   ]
  },
  {
   "cell_type": "code",
   "execution_count": 15,
   "metadata": {},
   "outputs": [
    {
     "data": {
      "application/vnd.jupyter.widget-view+json": {
       "model_id": "f3e9a8ae4e5d42de9a755b2ffbca4fce",
       "version_major": 2,
       "version_minor": 0
      },
      "text/plain": [
       "interactive(children=(IntSlider(value=100, description='n', max=200, min=6, readout_format=''), FloatSlider(va…"
      ]
     },
     "metadata": {},
     "output_type": "display_data"
    }
   ],
   "source": [
    "# nbi:hide_in\n",
    "import matplotlib.pyplot as plt\n",
    "import numpy as np\n",
    "from scipy.special import comb, factorial\n",
    "from ipywidgets import interact, IntSlider, FloatSlider\n",
    "\n",
    "def poiss_binom_pmf(n, lam):\n",
    "    p = lam/n\n",
    "    q = 1-p\n",
    "    N = 50\n",
    "    brange_x = np.arange(0, n, 1)\n",
    "    prange_x = np.arange(0, N, 1)\n",
    "\n",
    "    def poiss_pmf(x):\n",
    "        pmf_val = np.exp(-lam) * np.power(lam, x) / factorial(x)\n",
    "        return pmf_val\n",
    "    mean = lam\n",
    "\n",
    "    ppmf_values = np.array([poiss_pmf(x) for x in prange_x])\n",
    "    \n",
    "    def binom_pmf(x):\n",
    "        pmf_val = comb(n, x, exact=True) * p**x * q**(n-x)\n",
    "        return pmf_val\n",
    "    mean = n*p\n",
    "\n",
    "    bpmf_values = np.array([binom_pmf(x) for x in brange_x])\n",
    "\n",
    "    # plot setup\n",
    "    plt.figure(figsize=(14,7)) \n",
    "    plt.axhline(y=0, color='k', linewidth = 0.6)\n",
    "    plt.xlim(-2,20)\n",
    "\n",
    "    # Plotting hypergeometric\n",
    "    plt.bar(prange_x, ppmf_values, width=1, color=(0.1, 0.1, 1, 0.1), edgecolor='blue', \n",
    "            linewidth=1.3, label=\"Poisson\")\n",
    "    \n",
    "    # Plotting binomial\n",
    "    plt.bar(brange_x, bpmf_values, width=1, color=(0.3, 0.5, 0.3, 0.1), edgecolor='green',\n",
    "            linewidth=1.3, label=\"Binomial\")\n",
    "    plt.figtext(0.83,0.75, r\" $\\lambda$={}\".format(lam)+\"\\n n = {}\".format(n), ha=\"left\", va=\"top\",\n",
    "            backgroundcolor=(0.1, 0.1, 1, 0.15), fontsize=\"large\")\n",
    "    plt.gca().spines['top'].set_visible(False)\n",
    "    plt.gca().spines['right'].set_visible(False)\n",
    "    plt.legend()\n",
    "    plt.plot();\n",
    "\n",
    "# create interactive variables\n",
    "lam = FloatSlider(min=0.0, max=100, step=0.5, value=5, readout_format='', description=r\"$\\lambda$\")\n",
    "n = IntSlider(min=np.floor(lam.value)+1, max=200, step=1, value=100, readout_format='')\n",
    "\n",
    "# enforce K<=N and n<=N\n",
    "def update_range(*args):\n",
    "    n.min = np.floor(lam.value)+1\n",
    "    \n",
    "lam.observe(update_range, 'value')\n",
    "\n",
    "# display the interactive plot\n",
    "interact(poiss_binom_pmf,  lam=lam, n=n);"
   ]
  },
  {
   "cell_type": "markdown",
   "metadata": {},
   "source": [
    "Let us see that the Poisson distribution with parameter $\\lambda$ and the binomial distribution with parameters $(n,p=\\frac{\\lambda}{n})$ are close to each other  when $n$ is large by looking at their histograms.\n"
   ]
  }
 ],
 "metadata": {
  "kernelspec": {
   "display_name": "Python 3",
   "language": "python",
   "name": "python3"
  },
  "language_info": {
   "codemirror_mode": {
    "name": "ipython",
    "version": 3
   },
   "file_extension": ".py",
   "mimetype": "text/x-python",
   "name": "python",
   "nbconvert_exporter": "python",
   "pygments_lexer": "ipython3",
   "version": "3.7.7"
  }
 },
 "nbformat": 4,
 "nbformat_minor": 4
}
