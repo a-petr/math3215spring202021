{
 "cells": [
  {
   "cell_type": "markdown",
   "metadata": {
    "slideshow": {
     "slide_type": "slide"
    }
   },
   "source": [
    "# 8: Discriptive statistics, Estimation\n",
    "\n",
    "\n",
    " #### [Back to main page](https://petrosyan.page/fall2020math3215)\n"
   ]
  },
  {
   "cell_type": "markdown",
   "metadata": {},
   "source": [
    "### Box plots"
   ]
  },
  {
   "cell_type": "markdown",
   "metadata": {},
   "source": [
    "Below we display the blox plot of the following data:\n",
    "\n",
    "$$\\{-30,-1, -5, -0.5, 0.5, 0.6, 0, 2, 3, 4.6, 4, 7, 18, 35\\}.$$"
   ]
  },
  {
   "cell_type": "code",
   "execution_count": 119,
   "metadata": {},
   "outputs": [
    {
     "data": {
      "image/png": "[encoded data removed]",
      "text/plain": [
       "<Figure size 504x288 with 1 Axes>"
      ]
     },
     "metadata": {
      "needs_background": "light"
     },
     "output_type": "display_data"
    }
   ],
   "source": [
    "# nbi:hide_in\n",
    "import matplotlib.pyplot as plt\n",
    "import numpy as np\n",
    "\n",
    "# set up the figure\n",
    "fig, ax = plt.subplots(1,1, figsize=(7,4))\n",
    "\n",
    "# data\n",
    "data = np.array([-30, -5,  9, 10, 13, 20, 40, 500]).astype(float)\n",
    "# data = np.array([-30,-1, -5, -0.5, 0.5, 0.6, 0, 2, 3, 4.6, 4, 7, 18, 35]).astype(float)\n",
    "\n",
    "\n",
    "def percentile(data, p):\n",
    "    \"\"\"\n",
    "    Compute the percentiles the way we defined in class \n",
    "    data : array of size N \n",
    "    p : percentile\n",
    "    \"\"\"\n",
    "    data = np.sort(data, axis=0)\n",
    "    rank = int(p * (data.shape[0] + 1) - 1) # the rank\n",
    "    assert rank > 0, \"the rank does not exist\" \n",
    "    alpha = p * (data.shape[0] + 1) - 1 - rank # the fractional part\n",
    "    return data[rank] + alpha * (data[rank + 1] - data [rank])\n",
    "\n",
    "def box_plot(ax, data, width=0.4, showout = True, position = np.array([0.4])):\n",
    "    \"\"\"\n",
    "    ax : matplotlib ax\n",
    "    data : the data \n",
    "    width : box width\n",
    "    showout : show the outliers   \n",
    "    position: the y axis of the box plot\n",
    "    \"\"\"\n",
    "    # compute the five number summary \n",
    "    minim = np.min(data)\n",
    "    maxim = np.max(data)\n",
    "    q1 = percentile(data, 0.25)\n",
    "    q2 = np.median(data)\n",
    "    q3 = percentile(data, 0.75)\n",
    "\n",
    "    # interquartile range\n",
    "    iqr = q3 - q1\n",
    "\n",
    "    # inner fences\n",
    "    left_innerfence = q1 - 1.5 * iqr\n",
    "    right_innerfence = q3 + 1.5 * iqr\n",
    "\n",
    "    # compute outliers \n",
    "    outliers = data[np.logical_or(data <left_innerfence, data >= right_innerfence)]\n",
    "    \n",
    "    # whiskers\n",
    "    if showout==True:\n",
    "        low_whisker = np.min(data[data >= left_innerfence])\n",
    "        high_whisker = np.max(data[data <= right_innerfence])\n",
    "    else:\n",
    "        low_whisker = np.min(data)\n",
    "        high_whisker = np.max(data)\n",
    "\n",
    "\n",
    "\n",
    "    stats = [{'iqr': iqr,\n",
    "              'whishi': high_whisker,\n",
    "              'whislo': low_whisker,\n",
    "              'fliers': outliers,\n",
    "              'q1': q1,\n",
    "              'med': q2,\n",
    "              'q3': q3}]\n",
    "\n",
    "    # add the box plot\n",
    "    flierprops = dict(markerfacecolor='black', markersize=5)\n",
    "    ax.bxp(stats, vert = False, widths=width, positions = position, \n",
    "           flierprops=flierprops, showfliers=showout)\n",
    "\n",
    "    # add Tukey's fences\n",
    "    if showout==True:\n",
    "        ax.vlines(q1-1.5*iqr, position-0.2,position+0.2, linestyle=\"dashed\", linewidth=1)\n",
    "        ax.vlines(q3+1.5*iqr, position-0.2,position+0.2, linestyle=\"dashed\", linewidth=1)\n",
    "\n",
    "        ax.vlines(q1-3*iqr, position-0.2,position+0.2, linestyle=\"dashed\", linewidth=1)\n",
    "        ax.vlines(q3+3*iqr, position-0.2,position+0.2, linestyle=\"dashed\", linewidth=1)\n",
    "\n",
    "    #  \n",
    "    ax.spines['top'].set_visible(False)\n",
    "    ax.spines['right'].set_visible(False)\n",
    "    ax.spines['left'].set_visible(False)\n",
    "    ax.set_ylim(-0.1,position+0.3)\n",
    "    ax.set_yticks([])\n",
    "    plt.figtext(1,0.8,\n",
    "                r\"$\\min={:.4}$\".format(minim)+\"\\n\"+\n",
    "                r\"$q_1={:.4}$\".format(q1)+\"\\n\"+\n",
    "                r\"med$={:.4}$\".format(q2)+\"\\n\"+\n",
    "                r\"$q_3={:.4}$\".format(q3)+\"\\n\"+\n",
    "                r\"max$={:.4}$\".format(maxim),\n",
    "                ha=\"left\", va=\"top\",\n",
    "                backgroundcolor=(0.1, 0.1, 1, 0.15),\n",
    "                fontsize=\"large\")\n",
    "    \n",
    "def disp_data(ax, data):\n",
    "    ax.scatter(data, np.zeros(data.shape), zorder=2, s=10)\n",
    "    ax.set_yticks([])\n",
    "#     ax.set_xticks([])\n",
    "    mean = np.mean(data)\n",
    "    ax.scatter(mean, 0, zorder=2, s=20, color=\"red\")\n",
    "    ax.set_ylim(-0.01,0.1)\n",
    "    ax.axhline(y=0, color='k', zorder=1, linewidth=0.5)\n",
    "\n",
    "    \n",
    "    ax.spines['top'].set_visible(False)\n",
    "    ax.spines['right'].set_visible(False)\n",
    "    ax.spines['left'].set_visible(False)\n",
    "    ax.spines['bottom'].set_visible(False)\n",
    "\n",
    "    ax.set_ylim(-0.1,1.5)\n",
    "            \n",
    "box_plot(ax, data, width=0.2, showout=True)\n",
    "\n",
    "plt.show();"
   ]
  },
  {
   "cell_type": "markdown",
   "metadata": {},
   "source": [
    "## Ordinary least squares regression\n",
    "\n",
    "The following data is taken from [here](https://people.sc.fsu.edu/~jburkardt/datasets/regression/x03.txt). The dataset contains systolic blood pressure for 30 people of different ages."
   ]
  },
  {
   "cell_type": "code",
   "execution_count": 112,
   "metadata": {},
   "outputs": [
    {
     "data": {
      "text/html": [
       "<style>.container { width:61% !important; }</style>"
      ],
      "text/plain": [
       "<IPython.core.display.HTML object>"
      ]
     },
     "metadata": {},
     "output_type": "display_data"
    },
    {
     "data": {
      "text/html": [
       "<table border=\"1\" class=\"dataframe\">\n",
       "  <tbody>\n",
       "    <tr>\n",
       "      <th>Age</th>\n",
       "      <td>39</td>\n",
       "      <td>47</td>\n",
       "      <td>45</td>\n",
       "      <td>47</td>\n",
       "      <td>65</td>\n",
       "      <td>46</td>\n",
       "      <td>67</td>\n",
       "      <td>42</td>\n",
       "      <td>67</td>\n",
       "      <td>56</td>\n",
       "      <td>64</td>\n",
       "      <td>56</td>\n",
       "      <td>59</td>\n",
       "      <td>34</td>\n",
       "      <td>42</td>\n",
       "      <td>48</td>\n",
       "      <td>45</td>\n",
       "      <td>17</td>\n",
       "      <td>20</td>\n",
       "      <td>19</td>\n",
       "      <td>36</td>\n",
       "      <td>50</td>\n",
       "      <td>39</td>\n",
       "      <td>21</td>\n",
       "      <td>44</td>\n",
       "      <td>53</td>\n",
       "      <td>63</td>\n",
       "      <td>29</td>\n",
       "      <td>25</td>\n",
       "      <td>69</td>\n",
       "    </tr>\n",
       "    <tr>\n",
       "      <th>SDP</th>\n",
       "      <td>144</td>\n",
       "      <td>220</td>\n",
       "      <td>138</td>\n",
       "      <td>145</td>\n",
       "      <td>162</td>\n",
       "      <td>142</td>\n",
       "      <td>170</td>\n",
       "      <td>124</td>\n",
       "      <td>158</td>\n",
       "      <td>154</td>\n",
       "      <td>162</td>\n",
       "      <td>150</td>\n",
       "      <td>140</td>\n",
       "      <td>110</td>\n",
       "      <td>128</td>\n",
       "      <td>130</td>\n",
       "      <td>135</td>\n",
       "      <td>114</td>\n",
       "      <td>116</td>\n",
       "      <td>124</td>\n",
       "      <td>136</td>\n",
       "      <td>142</td>\n",
       "      <td>120</td>\n",
       "      <td>120</td>\n",
       "      <td>160</td>\n",
       "      <td>158</td>\n",
       "      <td>144</td>\n",
       "      <td>130</td>\n",
       "      <td>125</td>\n",
       "      <td>175</td>\n",
       "    </tr>\n",
       "  </tbody>\n",
       "</table>"
      ],
      "text/plain": [
       "<IPython.core.display.HTML object>"
      ]
     },
     "metadata": {},
     "output_type": "display_data"
    }
   ],
   "source": [
    "# nbi:hide_in\n",
    "import pandas as pd \n",
    "from IPython.display import display, HTML\n",
    "display(HTML(\"<style>.container { width:61% !important; }</style>\"))\n",
    "\n",
    "pdata=pd.DataFrame.transpose(pd.read_csv('files/blood_pressure.csv').astype(int))\n",
    "display(HTML(pdata.to_html(header=False)))"
   ]
  },
  {
   "cell_type": "code",
   "execution_count": 54,
   "metadata": {},
   "outputs": [
    {
     "data": {
      "image/png": "[encoded data removed]",
      "text/plain": [
       "<Figure size 504x432 with 1 Axes>"
      ]
     },
     "metadata": {
      "needs_background": "light"
     },
     "output_type": "display_data"
    }
   ],
   "source": [
    "# nbi:hide_in\n",
    "import numpy as np\n",
    "import matplotlib.pyplot as plt\n",
    "\n",
    "# plot setup\n",
    "plt.figure(figsize=(7,6)) \n",
    "plt.gca().spines['top'].set_visible(False)\n",
    "plt.gca().spines['right'].set_visible(False)\n",
    "\n",
    "# load data from a csv file\n",
    "data = np.genfromtxt('files/blood_pressure.csv', delimiter=',')[1:,:]\n",
    "age = data[:,0]\n",
    "sbp = data[:,1]\n",
    "\n",
    "# the least squares line\n",
    "meanx = np.mean(age)\n",
    "meany = np.mean(sbp)\n",
    "varx = np.var(age)\n",
    "# cov = np.cov(age, sbp)[0,1]\n",
    "cov = np.inner(age-meanx, sbp-meany)/age.shape[0]\n",
    "\n",
    "xvals = np.arange(np.min(age)-5, np.max(age)+5, 0.1)\n",
    "yvals = cov*(xvals - meanx)/varx + meany\n",
    "\n",
    "slope = cov / varx\n",
    "intercept = meany - cov*meanx / varx\n",
    "\n",
    "plt.xlabel(\"Age\")\n",
    "plt.ylabel(\"Systolic Blood Pressure (SDP)\")\n",
    "plt.plot(xvals, yvals, c=\"r\", zorder=1)\n",
    "\n",
    "plt.figtext(0.9,0.8, \" slope = {:.4f}\".format(slope) +\n",
    "            \"\\n intercept = {:.4f}\".format(intercept),\n",
    "            ha=\"left\", va=\"top\",\n",
    "            backgroundcolor=(0.1, 0.1, 1, 0.15), fontsize=\"large\")\n",
    "plt.title(\"Simple linear regression\")\n",
    "plt.scatter(age, sbp, zorder=0);"
   ]
  },
  {
   "cell_type": "code",
   "execution_count": 50,
   "metadata": {},
   "outputs": [
    {
     "data": {
      "image/png": "[encoded data removed]",
      "text/plain": [
       "<Figure size 504x432 with 1 Axes>"
      ]
     },
     "metadata": {
      "needs_background": "light"
     },
     "output_type": "display_data"
    }
   ],
   "source": [
    "# nbi:hide_in\n",
    "import numpy as np\n",
    "import matplotlib.pyplot as plt\n",
    "\n",
    "# plot setup\n",
    "plt.figure(figsize=(7,6)) \n",
    "plt.gca().spines['top'].set_visible(False)\n",
    "plt.gca().spines['right'].set_visible(False)\n",
    "\n",
    "# load data from a csv file\n",
    "data = np.genfromtxt('files/blood_pressure.csv', delimiter=',')[1:,:]\n",
    "age = data[:,0]\n",
    "sbp = data[:,1]\n",
    "\n",
    "# the least squares line\n",
    "meanx = np.mean(age)\n",
    "meany = np.mean(sbp)\n",
    "varx = np.var(age)\n",
    "cov = np.inner(age-meanx, sbp-meany)/age.shape[0]\n",
    "\n",
    "res = sbp - cov*(age - meanx)/varx - meany\n",
    "\n",
    "plt.gca().spines['bottom'].set_position(('data',0))\n",
    "plt.title(\"Residuals\")\n",
    "plt.scatter(age, res, zorder=0, alpha=0.7);"
   ]
  },
  {
   "cell_type": "markdown",
   "metadata": {},
   "source": [
    "## MLE linear regression for synthetic data\n",
    "\n",
    "True valus are $a=-2, b = 1$ and $\\sigma^2=0.04$."
   ]
  },
  {
   "cell_type": "code",
   "execution_count": 85,
   "metadata": {},
   "outputs": [
    {
     "data": {
      "image/png": "[encoded data removed]",
      "text/plain": [
       "<Figure size 504x432 with 1 Axes>"
      ]
     },
     "metadata": {
      "needs_background": "light"
     },
     "output_type": "display_data"
    }
   ],
   "source": [
    "# nbi:hide_in\n",
    "import numpy as np\n",
    "import matplotlib.pyplot as plt\n",
    "\n",
    "# plot setup\n",
    "plt.figure(figsize=(7,6)) \n",
    "plt.gca().spines['top'].set_visible(False)\n",
    "plt.gca().spines['right'].set_visible(False)\n",
    "\n",
    "# true parameters\n",
    "a = -2\n",
    "b = 1\n",
    "sigma = 2\n",
    "numData = 40\n",
    "\n",
    "# generate data\n",
    "x = np.random.rand(numData)*(b-a)+a\n",
    "y = a * x + b\n",
    "eps = np.random.randn(x.shape[0])*sigma\n",
    "y = y + eps\n",
    "\n",
    "# the least squares line\n",
    "meanx = np.mean(x)\n",
    "meany = np.mean(y)\n",
    "varx = np.var(x)\n",
    "vary = np.var(y)\n",
    "cov = np.inner(x-meanx, y-meany)/x.shape[0]\n",
    "\n",
    "# MLE \n",
    "aMLE = cov / varx\n",
    "bMLE = meany - cov*meanx / varx\n",
    "res = y - cov*(x - meanx)/varx - meany\n",
    "varMLE = np.var(res)\n",
    "R2 = 1 -  varMLE / vary\n",
    "\n",
    "\n",
    "# MLE line\n",
    "xvals = np.arange(np.min(x)-0.3, np.max(x)+0.3, 0.1)\n",
    "yvals = cov*(xvals - meanx)/varx + meany\n",
    "\n",
    "plt.xlabel(\"x\")\n",
    "plt.ylabel(\"y\")\n",
    "plt.figtext(0.9,0.8, r\" $\\hat a$ = {:.4f}\".format(aMLE) +\n",
    "            \"\\n $\\hat b$ = {:.4f}\\n\".format(bMLE) +\n",
    "#             r\" $\\hat\\sigma^2$ = {:.4f}\".format(varMLE) + \"\\n\"\n",
    "            r\" $R^2$ = {:.4f}\".format(R2),\n",
    "            ha=\"left\", va=\"top\",\n",
    "            backgroundcolor=(0.1, 0.1, 1, 0.15), fontsize=\"large\")\n",
    "plt.plot(xvals, yvals, c=\"r\", zorder=1)\n",
    "plt.scatter(x, y, zorder=0, alpha=0.7);"
   ]
  }
 ],
 "metadata": {
  "kernelspec": {
   "display_name": "Python 3",
   "language": "python",
   "name": "python3"
  },
  "language_info": {
   "codemirror_mode": {
    "name": "ipython",
    "version": 3
   },
   "file_extension": ".py",
   "mimetype": "text/x-python",
   "name": "python",
   "nbconvert_exporter": "python",
   "pygments_lexer": "ipython3",
   "version": "3.7.7"
  }
 },
 "nbformat": 4,
 "nbformat_minor": 4
}
