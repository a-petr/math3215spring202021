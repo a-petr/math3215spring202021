{
 "cells": [
  {
   "cell_type": "code",
   "execution_count": 1,
   "metadata": {},
   "outputs": [
    {
     "ename": "NameError",
     "evalue": "name 'data' is not defined",
     "output_type": "error",
     "traceback": [
      "\u001b[0;31m---------------------------------------------------------------------------\u001b[0m",
      "\u001b[0;31mNameError\u001b[0m                                 Traceback (most recent call last)",
      "\u001b[0;32m<ipython-input-1-ccc673de0cce>\u001b[0m in \u001b[0;36m<module>\u001b[0;34m\u001b[0m\n\u001b[1;32m     14\u001b[0m     \u001b[0;32mreturn\u001b[0m \u001b[0mepmf_values\u001b[0m\u001b[0;34m,\u001b[0m \u001b[0merange_x\u001b[0m\u001b[0;34m\u001b[0m\u001b[0;34m\u001b[0m\u001b[0m\n\u001b[1;32m     15\u001b[0m \u001b[0;34m\u001b[0m\u001b[0m\n\u001b[0;32m---> 16\u001b[0;31m \u001b[0mepmf_values\u001b[0m\u001b[0;34m,\u001b[0m \u001b[0merange_x\u001b[0m \u001b[0;34m=\u001b[0m \u001b[0mepmf\u001b[0m\u001b[0;34m(\u001b[0m\u001b[0mdata\u001b[0m\u001b[0;34m)\u001b[0m\u001b[0;34m\u001b[0m\u001b[0;34m\u001b[0m\u001b[0m\n\u001b[0m\u001b[1;32m     17\u001b[0m \u001b[0;34m\u001b[0m\u001b[0m\n",
      "\u001b[0;31mNameError\u001b[0m: name 'data' is not defined"
     ]
    },
    {
     "data": {
      "image/png": "[encoded data removed]",
      "text/plain": [
       "<Figure size 576x360 with 1 Axes>"
      ]
     },
     "metadata": {
      "needs_background": "light"
     },
     "output_type": "display_data"
    }
   ],
   "source": [
    "# nbi:hide_in\n",
    "# library\n",
    "import matplotlib.pyplot as plt\n",
    "import numpy as np\n",
    "plt.rcParams[\"figure.figsize\"] = (8, 5)\n",
    "plt.gca().spines['top'].set_visible(False)\n",
    "plt.gca().spines['right'].set_visible(False)\n",
    "plt.gca().spines['bottom'].set_visible(False)\n",
    "\n",
    "# compute empirical pmf\n",
    "def epmf(data):\n",
    "    erange_x, counts = np.unique(data, return_counts=True)\n",
    "    epmf_values = counts/data.size\n",
    "    return epmf_values, erange_x\n",
    "\n",
    "epmf_values, erange_x = epmf(data)\n",
    "\n"
   ]
  },
  {
   "cell_type": "code",
   "execution_count": 6,
   "metadata": {},
   "outputs": [
    {
     "name": "stdout",
     "output_type": "stream",
     "text": [
      "4.500000000000001\n"
     ]
    },
    {
     "data": {
      "image/png": "[encoded data removed]",
      "text/plain": [
       "<Figure size 576x360 with 1 Axes>"
      ]
     },
     "metadata": {
      "needs_background": "light"
     },
     "output_type": "display_data"
    }
   ],
   "source": [
    "range_x=np.arange(0,10)\n",
    "pmf_values=np.ones(range_x.size)/range_x.size\n",
    "\n",
    "fig, ax2 = plt.subplots(num=1, clear=True)\n",
    "\n",
    "\n",
    "ax2.set_ylim(-0.03, 0.4) \n",
    "ax2.set_xlim(-0.7, 8)\n",
    "ax2.axhline(y=0, color='k')\n",
    "ax2.set_xticks(range_x)\n",
    "ax2.set_yticks(pmf_values)\n",
    "ax2.spines[\"top\"].set_visible(False)  \n",
    "ax2.spines[\"right\"].set_visible(False)\n",
    "ax2.spines[\"bottom\"].set_visible(False)\n",
    "\n",
    "\n",
    "# PLotting with plt.bar instead of plt.hist works better when f(x) are knowwn\n",
    "ax2.scatter(range_x,np.zeros(range_x.shape), color =\"red\", s=20)\n",
    "ax2.bar(range_x, pmf_values, width=1, color='#039be5', edgecolor=\"w\", linewidth=1.3, label=\"Histogran\")\n",
    "ax2.set_title(\"Histogram\")\n",
    "\n",
    "mean = np.average(range_x, weights=pmf_values)\n",
    "print(mean)\n",
    "ax2.scatter(np.array([mean]),np.zeros(1), color =\"red\", s=200, label=\"Mean\", zorder=3)\n",
    "\n",
    "plt.show();"
   ]
  },
  {
   "cell_type": "code",
   "execution_count": 5,
   "metadata": {},
   "outputs": [
    {
     "data": {
      "text/plain": [
       "array([0.1, 0.1, 0.1, 0.1, 0.1, 0.1, 0.1, 0.1, 0.1, 0.1])"
      ]
     },
     "execution_count": 5,
     "metadata": {},
     "output_type": "execute_result"
    }
   ],
   "source": [
    "pmf_values"
   ]
  },
  {
   "cell_type": "code",
   "execution_count": null,
   "metadata": {},
   "outputs": [],
   "source": []
  }
 ],
 "metadata": {
  "kernelspec": {
   "display_name": "Python 3",
   "language": "python",
   "name": "python3"
  },
  "language_info": {
   "codemirror_mode": {
    "name": "ipython",
    "version": 3
   },
   "file_extension": ".py",
   "mimetype": "text/x-python",
   "name": "python",
   "nbconvert_exporter": "python",
   "pygments_lexer": "ipython3",
   "version": "3.7.7"
  }
 },
 "nbformat": 4,
 "nbformat_minor": 4
}
