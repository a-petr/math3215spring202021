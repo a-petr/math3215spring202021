{
 "cells": [
  {
   "cell_type": "code",
   "execution_count": 1,
   "metadata": {},
   "outputs": [
    {
     "ename": "NameError",
     "evalue": "name 'data' is not defined",
     "output_type": "error",
     "traceback": [
      "\u001b[0;31m---------------------------------------------------------------------------\u001b[0m",
      "\u001b[0;31mNameError\u001b[0m                                 Traceback (most recent call last)",
      "\u001b[0;32m<ipython-input-1-ccc673de0cce>\u001b[0m in \u001b[0;36m<module>\u001b[0;34m\u001b[0m\n\u001b[1;32m     14\u001b[0m     \u001b[0;32mreturn\u001b[0m \u001b[0mepmf_values\u001b[0m\u001b[0;34m,\u001b[0m \u001b[0merange_x\u001b[0m\u001b[0;34m\u001b[0m\u001b[0;34m\u001b[0m\u001b[0m\n\u001b[1;32m     15\u001b[0m \u001b[0;34m\u001b[0m\u001b[0m\n\u001b[0;32m---> 16\u001b[0;31m \u001b[0mepmf_values\u001b[0m\u001b[0;34m,\u001b[0m \u001b[0merange_x\u001b[0m \u001b[0;34m=\u001b[0m \u001b[0mepmf\u001b[0m\u001b[0;34m(\u001b[0m\u001b[0mdata\u001b[0m\u001b[0;34m)\u001b[0m\u001b[0;34m\u001b[0m\u001b[0;34m\u001b[0m\u001b[0m\n\u001b[0m\u001b[1;32m     17\u001b[0m \u001b[0;34m\u001b[0m\u001b[0m\n",
      "\u001b[0;31mNameError\u001b[0m: name 'data' is not defined"
     ]
    },
    {
     "data": {
      "image/png": "[encoded data removed]",
      "text/plain": [
       "<Figure size 576x360 with 1 Axes>"
      ]
     },
     "metadata": {
      "needs_background": "light"
     },
     "output_type": "display_data"
    }
   ],
   "source": [
    "# nbi:hide_in\n",
    "# library\n",
    "import matplotlib.pyplot as plt\n",
    "import numpy as np\n",
    "plt.rcParams[\"figure.figsize\"] = (8, 5)\n",
    "plt.gca().spines['top'].set_visible(False)\n",
    "plt.gca().spines['right'].set_visible(False)\n",
    "plt.gca().spines['bottom'].set_visible(False)\n",
    "\n",
    "# compute empirical pmf\n",
    "def epmf(data):\n",
    "    erange_x, counts = np.unique(data, return_counts=True)\n",
    "    epmf_values = counts/data.size\n",
    "    return epmf_values, erange_x\n",
    "\n",
    "epmf_values, erange_x = epmf(data)\n",
    "\n"
   ]
  },
  {
   "cell_type": "code",
   "execution_count": 12,
   "metadata": {},
   "outputs": [
    {
     "data": {
      "image/png": "[encoded data removed]",
      "text/plain": [
       "<Figure size 576x360 with 1 Axes>"
      ]
     },
     "metadata": {
      "needs_background": "light"
     },
     "output_type": "display_data"
    }
   ],
   "source": [
    "range_x=np.arange(0,10)\n",
    "pmf_values=np.ones(range_x.size)/range_x.size\n",
    "\n",
    "fig, ax2 = plt.subplots(num=1, clear=True)\n",
    "\n",
    "\n",
    "ax2.set_ylim(-0.01, 0.12) \n",
    "ax2.set_xlim(-0.7, 10)\n",
    "ax2.axhline(y=0, color='k')\n",
    "ax2.set_xticks(range_x)\n",
    "ax2.set_yticks(pmf_values)\n",
    "ax2.spines[\"top\"].set_visible(False)  \n",
    "ax2.spines[\"right\"].set_visible(False)\n",
    "ax2.spines[\"bottom\"].set_visible(False)\n",
    "\n",
    "\n",
    "# PLotting with plt.bar instead of plt.hist works better when f(x) are knowwn\n",
    "ax2.scatter(range_x,np.zeros(range_x.shape), color =\"red\", s=20)\n",
    "ax2.bar(range_x, pmf_values, width=1, color='#039be5', edgecolor=\"w\", linewidth=1.3, label=\"Histogran\")\n",
    "ax2.set_title(\"Histogram\")\n",
    "\n",
    "\n",
    "plt.show();"
   ]
  },
  {
   "cell_type": "code",
   "execution_count": 16,
   "metadata": {},
   "outputs": [],
   "source": [
    "import re\n",
    "\n",
    "myre = re.compile(\"\\s\")\n",
    "\n",
    "text=\"169 938 506 757 594 656 444 809 321 545 732 146 713 448 861 612 881 782 209 752 571 701 852 924 766 633 696 023 601 789 137 098 534 826 642 750 827 689 979 000 933 451 945 464 876 866 236 617 418 988\"\n",
    "\n",
    "\n",
    "newtext=myre.sub(\"\",text)"
   ]
  },
  {
   "cell_type": "code",
   "execution_count": 18,
   "metadata": {},
   "outputs": [
    {
     "data": {
      "text/plain": [
       "'169938506757594656444809321545732146713448861612881782209752571701852924766633696023601789137098534826642750827689979000933451945464876866236617418988'"
      ]
     },
     "execution_count": 18,
     "metadata": {},
     "output_type": "execute_result"
    }
   ],
   "source": [
    "\n",
    "newtext\n"
   ]
  },
  {
   "cell_type": "code",
   "execution_count": null,
   "metadata": {},
   "outputs": [],
   "source": []
  }
 ],
 "metadata": {
  "kernelspec": {
   "display_name": "Python 3",
   "language": "python",
   "name": "python3"
  },
  "language_info": {
   "codemirror_mode": {
    "name": "ipython",
    "version": 3
   },
   "file_extension": ".py",
   "mimetype": "text/x-python",
   "name": "python",
   "nbconvert_exporter": "python",
   "pygments_lexer": "ipython3",
   "version": "3.7.7"
  }
 },
 "nbformat": 4,
 "nbformat_minor": 4
}
